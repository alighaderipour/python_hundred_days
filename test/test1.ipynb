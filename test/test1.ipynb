{
 "cells": [
  {
   "cell_type": "code",
   "id": "initial_id",
   "metadata": {
    "collapsed": true,
    "ExecuteTime": {
     "end_time": "2024-12-30T18:08:49.826457Z",
     "start_time": "2024-12-30T18:08:45.810076Z"
    }
   },
   "source": [
    "\n",
    "\n",
    "import pandas as pd\n",
    "\n",
    "# Load the tsv file from the URL\n",
    "url = 'https://raw.githubusercontent.com/justmarkham/DAT8/master/data/chipotle.tsv'\n",
    "data = pd.read_csv(url, sep='\\t')  # Specify '\\t' as the separator for TSV files\n",
    "\n",
    "# Display the first few rows of the data\n",
    "data.to_csv('chipotle.csv', sep='\\t', index=False)\n"
   ],
   "outputs": [],
   "execution_count": 3
  }
 ],
 "metadata": {
  "kernelspec": {
   "display_name": "Python 3",
   "language": "python",
   "name": "python3"
  },
  "language_info": {
   "codemirror_mode": {
    "name": "ipython",
    "version": 2
   },
   "file_extension": ".py",
   "mimetype": "text/x-python",
   "name": "python",
   "nbconvert_exporter": "python",
   "pygments_lexer": "ipython2",
   "version": "2.7.6"
  }
 },
 "nbformat": 4,
 "nbformat_minor": 5
}
