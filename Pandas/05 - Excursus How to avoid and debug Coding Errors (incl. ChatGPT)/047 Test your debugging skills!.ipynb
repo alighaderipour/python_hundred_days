{
 "cells": [
  {
   "cell_type": "code",
   "id": "initial_id",
   "metadata": {
    "collapsed": true,
    "ExecuteTime": {
     "end_time": "2024-12-21T12:18:24.892703Z",
     "start_time": "2024-12-21T12:18:24.884190Z"
    }
   },
   "source": [
    "my_dict = {'Phelps, Michael': 22,\n",
    "           'Latynina, Larisa': 18,\n",
    "           'Andrianov, Nikolay': 51,\n",
    "           'Mangiarotti, Edoardo': 13,\n",
    "           'Ono, Takashi': \"13\",\n",
    "           }"
   ],
   "outputs": [],
   "execution_count": 1
  },
  {
   "metadata": {
    "ExecuteTime": {
     "end_time": "2024-12-21T12:18:24.939349Z",
     "start_time": "2024-12-21T12:18:24.921329Z"
    }
   },
   "cell_type": "code",
   "source": "my_dict",
   "id": "b98b2d21813745c8",
   "outputs": [
    {
     "data": {
      "text/plain": [
       "{'Phelps, Michael': 22,\n",
       " 'Latynina, Larisa': 18,\n",
       " 'Andrianov, Nikolay': 51,\n",
       " 'Mangiarotti, Edoardo': 13,\n",
       " 'Ono, Takashi': '13'}"
      ]
     },
     "execution_count": 2,
     "metadata": {},
     "output_type": "execute_result"
    }
   ],
   "execution_count": 2
  },
  {
   "metadata": {
    "ExecuteTime": {
     "end_time": "2024-12-21T12:19:16.677173Z",
     "start_time": "2024-12-21T12:19:16.429856Z"
    }
   },
   "cell_type": "code",
   "source": "my_dict['Phelps,Michael']",
   "id": "cea9fbb4651def3",
   "outputs": [
    {
     "ename": "KeyError",
     "evalue": "'Phelps,Michael'",
     "output_type": "error",
     "traceback": [
      "\u001B[1;31m---------------------------------------------------------------------------\u001B[0m",
      "\u001B[1;31mKeyError\u001B[0m                                  Traceback (most recent call last)",
      "Cell \u001B[1;32mIn[3], line 1\u001B[0m\n\u001B[1;32m----> 1\u001B[0m \u001B[43mmy_dict\u001B[49m\u001B[43m[\u001B[49m\u001B[38;5;124;43m'\u001B[39;49m\u001B[38;5;124;43mPhelps,Michael\u001B[39;49m\u001B[38;5;124;43m'\u001B[39;49m\u001B[43m]\u001B[49m\n",
      "\u001B[1;31mKeyError\u001B[0m: 'Phelps,Michael'"
     ]
    }
   ],
   "execution_count": 3
  },
  {
   "metadata": {
    "ExecuteTime": {
     "end_time": "2024-12-21T12:21:49.814385Z",
     "start_time": "2024-12-21T12:21:49.802889Z"
    }
   },
   "cell_type": "code",
   "source": "my_dict['Phelps, Michael']",
   "id": "815e8069dcdf5a1e",
   "outputs": [
    {
     "data": {
      "text/plain": [
       "22"
      ]
     },
     "execution_count": 5,
     "metadata": {},
     "output_type": "execute_result"
    }
   ],
   "execution_count": 5
  },
  {
   "metadata": {
    "ExecuteTime": {
     "end_time": "2024-12-21T12:29:40.050279Z",
     "start_time": "2024-12-21T12:29:40.039278Z"
    }
   },
   "cell_type": "code",
   "source": "my_dict['Phelps, Michael'] + int(my_dict['Ono, Takashi'])",
   "id": "f5125ce815f7a23b",
   "outputs": [
    {
     "data": {
      "text/plain": [
       "35"
      ]
     },
     "execution_count": 8,
     "metadata": {},
     "output_type": "execute_result"
    }
   ],
   "execution_count": 8
  },
  {
   "metadata": {
    "ExecuteTime": {
     "end_time": "2024-12-21T18:14:04.786435Z",
     "start_time": "2024-12-21T18:14:04.766891Z"
    }
   },
   "cell_type": "code",
   "source": "my_dict['Phelps, Michael'] - my_dic('Ono, Takashi')",
   "id": "c8037566c376a248",
   "outputs": [
    {
     "ename": "NameError",
     "evalue": "name 'my_dic' is not defined",
     "output_type": "error",
     "traceback": [
      "\u001B[1;31m---------------------------------------------------------------------------\u001B[0m",
      "\u001B[1;31mNameError\u001B[0m                                 Traceback (most recent call last)",
      "Cell \u001B[1;32mIn[9], line 1\u001B[0m\n\u001B[1;32m----> 1\u001B[0m my_dict[\u001B[38;5;124m'\u001B[39m\u001B[38;5;124mPhelps, Michael\u001B[39m\u001B[38;5;124m'\u001B[39m] \u001B[38;5;241m-\u001B[39m \u001B[43mmy_dic\u001B[49m(\u001B[38;5;124m'\u001B[39m\u001B[38;5;124mOno, Takashi\u001B[39m\u001B[38;5;124m'\u001B[39m)\n",
      "\u001B[1;31mNameError\u001B[0m: name 'my_dic' is not defined"
     ]
    }
   ],
   "execution_count": 9
  },
  {
   "metadata": {
    "ExecuteTime": {
     "end_time": "2024-12-21T18:19:53.088782Z",
     "start_time": "2024-12-21T18:19:53.078483Z"
    }
   },
   "cell_type": "code",
   "source": [
    "import pandas as pd\n",
    "\n",
    "pd.Series(my_dict, name=\"Medals\")"
   ],
   "id": "68be067dab792752",
   "outputs": [
    {
     "data": {
      "text/plain": [
       "Phelps, Michael         22\n",
       "Latynina, Larisa        18\n",
       "Andrianov, Nikolay      51\n",
       "Mangiarotti, Edoardo    13\n",
       "Ono, Takashi            13\n",
       "Name: Medals, dtype: object"
      ]
     },
     "execution_count": 12,
     "metadata": {},
     "output_type": "execute_result"
    }
   ],
   "execution_count": 12
  },
  {
   "metadata": {},
   "cell_type": "code",
   "outputs": [],
   "execution_count": null,
   "source": "",
   "id": "f542f4209c2c959c"
  }
 ],
 "metadata": {
  "kernelspec": {
   "display_name": "Python 3",
   "language": "python",
   "name": "python3"
  },
  "language_info": {
   "codemirror_mode": {
    "name": "ipython",
    "version": 2
   },
   "file_extension": ".py",
   "mimetype": "text/x-python",
   "name": "python",
   "nbconvert_exporter": "python",
   "pygments_lexer": "ipython2",
   "version": "2.7.6"
  }
 },
 "nbformat": 4,
 "nbformat_minor": 5
}
