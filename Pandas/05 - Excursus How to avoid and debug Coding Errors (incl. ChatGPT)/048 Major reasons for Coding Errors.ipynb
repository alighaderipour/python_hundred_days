{
 "cells": [
  {
   "cell_type": "code",
   "id": "initial_id",
   "metadata": {
    "collapsed": true,
    "ExecuteTime": {
     "end_time": "2024-12-21T18:32:43.747077Z",
     "start_time": "2024-12-21T18:32:43.737561Z"
    }
   },
   "source": [
    "my_dict = {\n",
    "    \"Name\": [\"Cristiano Ronaldo\", \"Lionel Messi\", \"Neymar\", \"Zlatan Ibrahimovic\"],\n",
    "    \"Nationality\": [\"Portugal\", \"Argentina\", \"Brazil\", \"Sweden\"],\n",
    "    \"Club\": [\"Real Madrid\", \"Barcelona\", \"PSG\", \"Inter\"],\n",
    "    \"Height\": [187, 169, 175, 193]\n",
    "}\n",
    "import pandas as pd\n",
    "\n",
    "df = pd.DataFrame(my_dict)\n",
    "df"
   ],
   "outputs": [
    {
     "data": {
      "text/plain": [
       "                 Name Nationality         Club  Height\n",
       "0   Cristiano Ronaldo    Portugal  Real Madrid     187\n",
       "1        Lionel Messi   Argentina    Barcelona     169\n",
       "2              Neymar      Brazil          PSG     175\n",
       "3  Zlatan Ibrahimovic      Sweden        Inter     193"
      ],
      "text/html": [
       "<div>\n",
       "<style scoped>\n",
       "    .dataframe tbody tr th:only-of-type {\n",
       "        vertical-align: middle;\n",
       "    }\n",
       "\n",
       "    .dataframe tbody tr th {\n",
       "        vertical-align: top;\n",
       "    }\n",
       "\n",
       "    .dataframe thead th {\n",
       "        text-align: right;\n",
       "    }\n",
       "</style>\n",
       "<table border=\"1\" class=\"dataframe\">\n",
       "  <thead>\n",
       "    <tr style=\"text-align: right;\">\n",
       "      <th></th>\n",
       "      <th>Name</th>\n",
       "      <th>Nationality</th>\n",
       "      <th>Club</th>\n",
       "      <th>Height</th>\n",
       "    </tr>\n",
       "  </thead>\n",
       "  <tbody>\n",
       "    <tr>\n",
       "      <th>0</th>\n",
       "      <td>Cristiano Ronaldo</td>\n",
       "      <td>Portugal</td>\n",
       "      <td>Real Madrid</td>\n",
       "      <td>187</td>\n",
       "    </tr>\n",
       "    <tr>\n",
       "      <th>1</th>\n",
       "      <td>Lionel Messi</td>\n",
       "      <td>Argentina</td>\n",
       "      <td>Barcelona</td>\n",
       "      <td>169</td>\n",
       "    </tr>\n",
       "    <tr>\n",
       "      <th>2</th>\n",
       "      <td>Neymar</td>\n",
       "      <td>Brazil</td>\n",
       "      <td>PSG</td>\n",
       "      <td>175</td>\n",
       "    </tr>\n",
       "    <tr>\n",
       "      <th>3</th>\n",
       "      <td>Zlatan Ibrahimovic</td>\n",
       "      <td>Sweden</td>\n",
       "      <td>Inter</td>\n",
       "      <td>193</td>\n",
       "    </tr>\n",
       "  </tbody>\n",
       "</table>\n",
       "</div>"
      ]
     },
     "execution_count": 10,
     "metadata": {},
     "output_type": "execute_result"
    }
   ],
   "execution_count": 10
  },
  {
   "metadata": {
    "ExecuteTime": {
     "end_time": "2024-12-21T18:32:48.233075Z",
     "start_time": "2024-12-21T18:32:48.222422Z"
    }
   },
   "cell_type": "code",
   "source": [
    "df.set_index(\"Name\", inplace=True)\n",
    "df"
   ],
   "id": "a30469f87bf77123",
   "outputs": [
    {
     "data": {
      "text/plain": [
       "                   Nationality         Club  Height\n",
       "Name                                               \n",
       "Cristiano Ronaldo     Portugal  Real Madrid     187\n",
       "Lionel Messi         Argentina    Barcelona     169\n",
       "Neymar                  Brazil          PSG     175\n",
       "Zlatan Ibrahimovic      Sweden        Inter     193"
      ],
      "text/html": [
       "<div>\n",
       "<style scoped>\n",
       "    .dataframe tbody tr th:only-of-type {\n",
       "        vertical-align: middle;\n",
       "    }\n",
       "\n",
       "    .dataframe tbody tr th {\n",
       "        vertical-align: top;\n",
       "    }\n",
       "\n",
       "    .dataframe thead th {\n",
       "        text-align: right;\n",
       "    }\n",
       "</style>\n",
       "<table border=\"1\" class=\"dataframe\">\n",
       "  <thead>\n",
       "    <tr style=\"text-align: right;\">\n",
       "      <th></th>\n",
       "      <th>Nationality</th>\n",
       "      <th>Club</th>\n",
       "      <th>Height</th>\n",
       "    </tr>\n",
       "    <tr>\n",
       "      <th>Name</th>\n",
       "      <th></th>\n",
       "      <th></th>\n",
       "      <th></th>\n",
       "    </tr>\n",
       "  </thead>\n",
       "  <tbody>\n",
       "    <tr>\n",
       "      <th>Cristiano Ronaldo</th>\n",
       "      <td>Portugal</td>\n",
       "      <td>Real Madrid</td>\n",
       "      <td>187</td>\n",
       "    </tr>\n",
       "    <tr>\n",
       "      <th>Lionel Messi</th>\n",
       "      <td>Argentina</td>\n",
       "      <td>Barcelona</td>\n",
       "      <td>169</td>\n",
       "    </tr>\n",
       "    <tr>\n",
       "      <th>Neymar</th>\n",
       "      <td>Brazil</td>\n",
       "      <td>PSG</td>\n",
       "      <td>175</td>\n",
       "    </tr>\n",
       "    <tr>\n",
       "      <th>Zlatan Ibrahimovic</th>\n",
       "      <td>Sweden</td>\n",
       "      <td>Inter</td>\n",
       "      <td>193</td>\n",
       "    </tr>\n",
       "  </tbody>\n",
       "</table>\n",
       "</div>"
      ]
     },
     "execution_count": 11,
     "metadata": {},
     "output_type": "execute_result"
    }
   ],
   "execution_count": 11
  },
  {
   "metadata": {
    "ExecuteTime": {
     "end_time": "2024-12-21T18:33:01.827389Z",
     "start_time": "2024-12-21T18:33:01.813384Z"
    }
   },
   "cell_type": "code",
   "source": "df.loc[\"Lionel Messi\"]",
   "id": "eb1bb6c7082baeda",
   "outputs": [
    {
     "data": {
      "text/plain": [
       "Nationality    Argentina\n",
       "Club           Barcelona\n",
       "Height               169\n",
       "Name: Lionel Messi, dtype: object"
      ]
     },
     "execution_count": 12,
     "metadata": {},
     "output_type": "execute_result"
    }
   ],
   "execution_count": 12
  },
  {
   "metadata": {},
   "cell_type": "code",
   "outputs": [],
   "execution_count": null,
   "source": "",
   "id": "f371417ea84a368b"
  }
 ],
 "metadata": {
  "kernelspec": {
   "display_name": "Python 3",
   "language": "python",
   "name": "python3"
  },
  "language_info": {
   "codemirror_mode": {
    "name": "ipython",
    "version": 2
   },
   "file_extension": ".py",
   "mimetype": "text/x-python",
   "name": "python",
   "nbconvert_exporter": "python",
   "pygments_lexer": "ipython2",
   "version": "2.7.6"
  }
 },
 "nbformat": 4,
 "nbformat_minor": 5
}
