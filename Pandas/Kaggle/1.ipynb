{
 "cells": [
  {
   "cell_type": "code",
   "id": "initial_id",
   "metadata": {
    "collapsed": true,
    "ExecuteTime": {
     "end_time": "2024-12-14T05:48:33.191806Z",
     "start_time": "2024-12-14T05:48:29.009232Z"
    }
   },
   "source": "import pandas as pd",
   "outputs": [],
   "execution_count": 3
  },
  {
   "metadata": {
    "ExecuteTime": {
     "end_time": "2024-12-14T08:38:00.449298Z",
     "start_time": "2024-12-14T08:38:00.419424Z"
    }
   },
   "cell_type": "code",
   "source": [
    "simple_df = pd.DataFrame({'name': [\"ali\", \"reza\"], \"age\": [21, 32]})\n",
    "simple_df"
   ],
   "id": "ddbb65602de1e9bd",
   "outputs": [
    {
     "data": {
      "text/plain": [
       "   name  age\n",
       "0   ali   21\n",
       "1  reza   32"
      ],
      "text/html": [
       "<div>\n",
       "<style scoped>\n",
       "    .dataframe tbody tr th:only-of-type {\n",
       "        vertical-align: middle;\n",
       "    }\n",
       "\n",
       "    .dataframe tbody tr th {\n",
       "        vertical-align: top;\n",
       "    }\n",
       "\n",
       "    .dataframe thead th {\n",
       "        text-align: right;\n",
       "    }\n",
       "</style>\n",
       "<table border=\"1\" class=\"dataframe\">\n",
       "  <thead>\n",
       "    <tr style=\"text-align: right;\">\n",
       "      <th></th>\n",
       "      <th>name</th>\n",
       "      <th>age</th>\n",
       "    </tr>\n",
       "  </thead>\n",
       "  <tbody>\n",
       "    <tr>\n",
       "      <th>0</th>\n",
       "      <td>ali</td>\n",
       "      <td>21</td>\n",
       "    </tr>\n",
       "    <tr>\n",
       "      <th>1</th>\n",
       "      <td>reza</td>\n",
       "      <td>32</td>\n",
       "    </tr>\n",
       "  </tbody>\n",
       "</table>\n",
       "</div>"
      ]
     },
     "execution_count": 17,
     "metadata": {},
     "output_type": "execute_result"
    }
   ],
   "execution_count": 17
  },
  {
   "metadata": {
    "ExecuteTime": {
     "end_time": "2024-12-14T08:39:37.437953Z",
     "start_time": "2024-12-14T08:39:37.433611Z"
    }
   },
   "cell_type": "code",
   "source": [
    "simple_df = pd.DataFrame({'Bob': ['I liked it.', 'It was awful.'], 'Sue': ['Pretty good.', 'Bland.']})\n",
    "simple_df"
   ],
   "id": "997b6833400666e0",
   "outputs": [
    {
     "name": "stdout",
     "output_type": "stream",
     "text": [
      "the type of simple_df <class 'pandas.core.frame.DataFrame'>\n"
     ]
    }
   ],
   "execution_count": 21
  },
  {
   "metadata": {
    "ExecuteTime": {
     "end_time": "2024-12-14T08:39:56.838271Z",
     "start_time": "2024-12-14T08:39:56.831593Z"
    }
   },
   "cell_type": "code",
   "source": "print('the type of simple_df', type(simple_df))",
   "id": "dcd11e7f64f4fd3",
   "outputs": [
    {
     "name": "stdout",
     "output_type": "stream",
     "text": [
      "the type of simple_df <class 'pandas.core.frame.DataFrame'>\n"
     ]
    }
   ],
   "execution_count": 22
  },
  {
   "metadata": {
    "ExecuteTime": {
     "end_time": "2024-12-14T09:46:13.474098Z",
     "start_time": "2024-12-14T09:46:13.419371Z"
    }
   },
   "cell_type": "code",
   "source": "pd.Series([30, 35, 40], index=['2015 Sales', '2016 Sales', '2017 Sales'], name='Product A')",
   "id": "d45ca6167720ce20",
   "outputs": [
    {
     "data": {
      "text/plain": [
       "2015 Sales    30\n",
       "2016 Sales    35\n",
       "2017 Sales    40\n",
       "Name: Product A, dtype: int64"
      ]
     },
     "execution_count": 23,
     "metadata": {},
     "output_type": "execute_result"
    }
   ],
   "execution_count": 23
  },
  {
   "metadata": {
    "ExecuteTime": {
     "end_time": "2024-12-14T06:55:00.066211Z",
     "start_time": "2024-12-14T06:55:00.053393Z"
    }
   },
   "cell_type": "code",
   "source": [
    "students = pd.DataFrame([[\"Ali\", \"Ghaderi Pour\", 33, 171, \"male\", \"Qualified\"], [\"Mahmood\", \"Gishin Zadeh\", 37, 160, \"male\", \"Not Qualified\"],\n",
    "                         [\"Ahad\", \"Safizadeh\", 37, 181, \"male\", \"Qualified\"], [\"Zahra\", \"Karimi\", 44, 156, \"female\", \"Not Qualified\"]],\n",
    "                        columns=[\"First \"\n",
    "                                 \"Name\",\n",
    "                                 \"Last \"\n",
    "                                 \"Name\",\n",
    "                                 \"Age\",\n",
    "                                 \"Height\",\n",
    "                                 \"Sex\",\n",
    "                                 \"Status\"], index=[1, 2, 3, 4])\n",
    "students"
   ],
   "id": "b5063a4a276178cb",
   "outputs": [
    {
     "data": {
      "text/plain": [
       "  First Name     Last Name  Age  Height     Sex         Status\n",
       "1        Ali  Ghaderi Pour   33     171    male      Qualified\n",
       "2    Mahmood  Gishin Zadeh   37     160    male  Not Qualified\n",
       "3       Ahad     Safizadeh   37     181    male      Qualified\n",
       "4      Zahra        Karimi   44     156  female  Not Qualified"
      ],
      "text/html": [
       "<div>\n",
       "<style scoped>\n",
       "    .dataframe tbody tr th:only-of-type {\n",
       "        vertical-align: middle;\n",
       "    }\n",
       "\n",
       "    .dataframe tbody tr th {\n",
       "        vertical-align: top;\n",
       "    }\n",
       "\n",
       "    .dataframe thead th {\n",
       "        text-align: right;\n",
       "    }\n",
       "</style>\n",
       "<table border=\"1\" class=\"dataframe\">\n",
       "  <thead>\n",
       "    <tr style=\"text-align: right;\">\n",
       "      <th></th>\n",
       "      <th>First Name</th>\n",
       "      <th>Last Name</th>\n",
       "      <th>Age</th>\n",
       "      <th>Height</th>\n",
       "      <th>Sex</th>\n",
       "      <th>Status</th>\n",
       "    </tr>\n",
       "  </thead>\n",
       "  <tbody>\n",
       "    <tr>\n",
       "      <th>1</th>\n",
       "      <td>Ali</td>\n",
       "      <td>Ghaderi Pour</td>\n",
       "      <td>33</td>\n",
       "      <td>171</td>\n",
       "      <td>male</td>\n",
       "      <td>Qualified</td>\n",
       "    </tr>\n",
       "    <tr>\n",
       "      <th>2</th>\n",
       "      <td>Mahmood</td>\n",
       "      <td>Gishin Zadeh</td>\n",
       "      <td>37</td>\n",
       "      <td>160</td>\n",
       "      <td>male</td>\n",
       "      <td>Not Qualified</td>\n",
       "    </tr>\n",
       "    <tr>\n",
       "      <th>3</th>\n",
       "      <td>Ahad</td>\n",
       "      <td>Safizadeh</td>\n",
       "      <td>37</td>\n",
       "      <td>181</td>\n",
       "      <td>male</td>\n",
       "      <td>Qualified</td>\n",
       "    </tr>\n",
       "    <tr>\n",
       "      <th>4</th>\n",
       "      <td>Zahra</td>\n",
       "      <td>Karimi</td>\n",
       "      <td>44</td>\n",
       "      <td>156</td>\n",
       "      <td>female</td>\n",
       "      <td>Not Qualified</td>\n",
       "    </tr>\n",
       "  </tbody>\n",
       "</table>\n",
       "</div>"
      ]
     },
     "execution_count": 12,
     "metadata": {},
     "output_type": "execute_result"
    }
   ],
   "execution_count": 12
  },
  {
   "metadata": {
    "ExecuteTime": {
     "end_time": "2024-12-14T07:59:30.056515Z",
     "start_time": "2024-12-14T07:59:30.048094Z"
    }
   },
   "cell_type": "code",
   "source": [
    "student_age = pd.Series([12, 25, 35, 13], index=[1, 2, 3, 4], name='Student Age')\n",
    "student_age"
   ],
   "id": "70e67bb30e81dc1e",
   "outputs": [
    {
     "data": {
      "text/plain": [
       "1    12\n",
       "2    25\n",
       "3    35\n",
       "4    13\n",
       "Name: Student Age, dtype: int64"
      ]
     },
     "execution_count": 16,
     "metadata": {},
     "output_type": "execute_result"
    }
   ],
   "execution_count": 16
  },
  {
   "metadata": {},
   "cell_type": "code",
   "outputs": [],
   "execution_count": null,
   "source": "",
   "id": "783b3b5f4203ae50"
  }
 ],
 "metadata": {
  "kernelspec": {
   "display_name": "Python 3",
   "language": "python",
   "name": "python3"
  },
  "language_info": {
   "codemirror_mode": {
    "name": "ipython",
    "version": 2
   },
   "file_extension": ".py",
   "mimetype": "text/x-python",
   "name": "python",
   "nbconvert_exporter": "python",
   "pygments_lexer": "ipython2",
   "version": "2.7.6"
  }
 },
 "nbformat": 4,
 "nbformat_minor": 5
}
