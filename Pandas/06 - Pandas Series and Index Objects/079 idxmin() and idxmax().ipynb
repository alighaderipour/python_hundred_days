{
 "cells": [
  {
   "cell_type": "code",
   "id": "initial_id",
   "metadata": {
    "collapsed": true,
    "ExecuteTime": {
     "end_time": "2024-12-30T18:36:58.463536Z",
     "start_time": "2024-12-30T18:36:58.450101Z"
    }
   },
   "source": [
    "import pandas as pd\n",
    "\n",
    "titanic = pd.read_csv('titanic.csv')\n",
    "age = titanic['age']\n",
    "age.info()"
   ],
   "outputs": [
    {
     "name": "stdout",
     "output_type": "stream",
     "text": [
      "<class 'pandas.core.series.Series'>\n",
      "RangeIndex: 891 entries, 0 to 890\n",
      "Series name: age\n",
      "Non-Null Count  Dtype  \n",
      "--------------  -----  \n",
      "714 non-null    float64\n",
      "dtypes: float64(1)\n",
      "memory usage: 7.1 KB\n"
     ]
    }
   ],
   "execution_count": 3
  },
  {
   "metadata": {
    "ExecuteTime": {
     "end_time": "2024-12-30T18:37:14.040543Z",
     "start_time": "2024-12-30T18:37:14.031009Z"
    }
   },
   "cell_type": "code",
   "source": "age.nlargest(2)",
   "id": "53dbbf306ad5458b",
   "outputs": [
    {
     "data": {
      "text/plain": [
       "630    80.0\n",
       "851    74.0\n",
       "Name: age, dtype: float64"
      ]
     },
     "execution_count": 4,
     "metadata": {},
     "output_type": "execute_result"
    }
   ],
   "execution_count": 4
  },
  {
   "metadata": {
    "ExecuteTime": {
     "end_time": "2024-12-30T18:37:21.934478Z",
     "start_time": "2024-12-30T18:37:21.924465Z"
    }
   },
   "cell_type": "code",
   "source": "age.idxmax()",
   "id": "291c3e93a03937d4",
   "outputs": [
    {
     "data": {
      "text/plain": [
       "630"
      ]
     },
     "execution_count": 6,
     "metadata": {},
     "output_type": "execute_result"
    }
   ],
   "execution_count": 6
  },
  {
   "metadata": {
    "ExecuteTime": {
     "end_time": "2024-12-30T18:37:28.322501Z",
     "start_time": "2024-12-30T18:37:28.309454Z"
    }
   },
   "cell_type": "code",
   "source": "age.nsmallest(2)",
   "id": "4166f9cfabdd8450",
   "outputs": [
    {
     "data": {
      "text/plain": [
       "803    0.42\n",
       "755    0.67\n",
       "Name: age, dtype: float64"
      ]
     },
     "execution_count": 7,
     "metadata": {},
     "output_type": "execute_result"
    }
   ],
   "execution_count": 7
  },
  {
   "metadata": {
    "ExecuteTime": {
     "end_time": "2024-12-30T18:37:33.206616Z",
     "start_time": "2024-12-30T18:37:33.192540Z"
    }
   },
   "cell_type": "code",
   "source": "age.idxmin()",
   "id": "59804cb836012784",
   "outputs": [
    {
     "data": {
      "text/plain": [
       "803"
      ]
     },
     "execution_count": 8,
     "metadata": {},
     "output_type": "execute_result"
    }
   ],
   "execution_count": 8
  },
  {
   "metadata": {
    "ExecuteTime": {
     "end_time": "2024-12-30T18:37:49.837327Z",
     "start_time": "2024-12-30T18:37:49.823395Z"
    }
   },
   "cell_type": "code",
   "source": "age.loc[630]",
   "id": "4549610cb183c8f",
   "outputs": [
    {
     "data": {
      "text/plain": [
       "np.float64(80.0)"
      ]
     },
     "execution_count": 9,
     "metadata": {},
     "output_type": "execute_result"
    }
   ],
   "execution_count": 9
  },
  {
   "metadata": {
    "ExecuteTime": {
     "end_time": "2024-12-30T18:37:55.432109Z",
     "start_time": "2024-12-30T18:37:55.418588Z"
    }
   },
   "cell_type": "code",
   "source": "age.loc[803]",
   "id": "8aac3dd21bf1b3dd",
   "outputs": [
    {
     "data": {
      "text/plain": [
       "np.float64(0.42)"
      ]
     },
     "execution_count": 10,
     "metadata": {},
     "output_type": "execute_result"
    }
   ],
   "execution_count": 10
  },
  {
   "metadata": {
    "ExecuteTime": {
     "end_time": "2024-12-30T18:39:57.728989Z",
     "start_time": "2024-12-30T18:39:57.718006Z"
    }
   },
   "cell_type": "code",
   "source": "titanic.loc[age.idxmin()]",
   "id": "ceeda564bca3082a",
   "outputs": [
    {
     "data": {
      "text/plain": [
       "survived         1\n",
       "pclass           3\n",
       "sex           male\n",
       "age           0.42\n",
       "sibsp            0\n",
       "parch            1\n",
       "fare        8.5167\n",
       "embarked         C\n",
       "deck           NaN\n",
       "Name: 803, dtype: object"
      ]
     },
     "execution_count": 13,
     "metadata": {},
     "output_type": "execute_result"
    }
   ],
   "execution_count": 13
  },
  {
   "metadata": {
    "ExecuteTime": {
     "end_time": "2024-12-30T18:42:04.984204Z",
     "start_time": "2024-12-30T18:42:04.972266Z"
    }
   },
   "cell_type": "code",
   "source": "age.nlargest(1).index",
   "id": "90135dbcb6e71b67",
   "outputs": [
    {
     "data": {
      "text/plain": [
       "Index([630], dtype='int64')"
      ]
     },
     "execution_count": 18,
     "metadata": {},
     "output_type": "execute_result"
    }
   ],
   "execution_count": 18
  },
  {
   "metadata": {
    "ExecuteTime": {
     "end_time": "2024-12-30T18:42:36.575762Z",
     "start_time": "2024-12-30T18:42:36.562761Z"
    }
   },
   "cell_type": "code",
   "source": "age.nlargest(1).values",
   "id": "8a5166c74fb75917",
   "outputs": [
    {
     "data": {
      "text/plain": [
       "array([80.])"
      ]
     },
     "execution_count": 23,
     "metadata": {},
     "output_type": "execute_result"
    }
   ],
   "execution_count": 23
  },
  {
   "metadata": {
    "ExecuteTime": {
     "end_time": "2024-12-30T19:01:56.399565Z",
     "start_time": "2024-12-30T19:01:56.384549Z"
    }
   },
   "cell_type": "code",
   "source": "titanic.iloc[age.nlargest(1).index]",
   "id": "e29c5080dae679cc",
   "outputs": [
    {
     "data": {
      "text/plain": [
       "     survived  pclass   sex   age  sibsp  parch  fare embarked deck\n",
       "630         1       1  male  80.0      0      0  30.0        S    A"
      ],
      "text/html": [
       "<div>\n",
       "<style scoped>\n",
       "    .dataframe tbody tr th:only-of-type {\n",
       "        vertical-align: middle;\n",
       "    }\n",
       "\n",
       "    .dataframe tbody tr th {\n",
       "        vertical-align: top;\n",
       "    }\n",
       "\n",
       "    .dataframe thead th {\n",
       "        text-align: right;\n",
       "    }\n",
       "</style>\n",
       "<table border=\"1\" class=\"dataframe\">\n",
       "  <thead>\n",
       "    <tr style=\"text-align: right;\">\n",
       "      <th></th>\n",
       "      <th>survived</th>\n",
       "      <th>pclass</th>\n",
       "      <th>sex</th>\n",
       "      <th>age</th>\n",
       "      <th>sibsp</th>\n",
       "      <th>parch</th>\n",
       "      <th>fare</th>\n",
       "      <th>embarked</th>\n",
       "      <th>deck</th>\n",
       "    </tr>\n",
       "  </thead>\n",
       "  <tbody>\n",
       "    <tr>\n",
       "      <th>630</th>\n",
       "      <td>1</td>\n",
       "      <td>1</td>\n",
       "      <td>male</td>\n",
       "      <td>80.0</td>\n",
       "      <td>0</td>\n",
       "      <td>0</td>\n",
       "      <td>30.0</td>\n",
       "      <td>S</td>\n",
       "      <td>A</td>\n",
       "    </tr>\n",
       "  </tbody>\n",
       "</table>\n",
       "</div>"
      ]
     },
     "execution_count": 25,
     "metadata": {},
     "output_type": "execute_result"
    }
   ],
   "execution_count": 25
  },
  {
   "metadata": {},
   "cell_type": "markdown",
   "source": [
    "baraye iloc ma index mikhaim ke idxmax ya idxmin behemon mide, age az nlargest ya nsmallest mikhai estefade koni madde nazar dashte bash ke inha ye\n",
    " array return mikonan"
   ],
   "id": "7418a49673c5f43a"
  },
  {
   "metadata": {},
   "cell_type": "markdown",
   "source": "age.nlargest(1) returns a Series with the largest values, but .values returns an array of the actual values, not the row indices. Since iloc requires the row positions (or integer-based indices), you need to use .index instead of .values.\n",
   "id": "a355ea99137ac81c"
  },
  {
   "metadata": {
    "ExecuteTime": {
     "end_time": "2024-12-30T19:06:02.159672Z",
     "start_time": "2024-12-30T19:06:02.147140Z"
    }
   },
   "cell_type": "code",
   "source": [
    "age.nlargest(1)\n",
    "\n"
   ],
   "id": "af4cd51306362b30",
   "outputs": [
    {
     "data": {
      "text/plain": [
       "630    80.0\n",
       "Name: age, dtype: float64"
      ]
     },
     "execution_count": 31,
     "metadata": {},
     "output_type": "execute_result"
    }
   ],
   "execution_count": 31
  },
  {
   "metadata": {
    "ExecuteTime": {
     "end_time": "2024-12-30T19:06:15.978515Z",
     "start_time": "2024-12-30T19:06:15.965837Z"
    }
   },
   "cell_type": "code",
   "source": "age.nlargest(1).index",
   "id": "d0e64e92df98c5f0",
   "outputs": [
    {
     "data": {
      "text/plain": [
       "Index([630], dtype='int64')"
      ]
     },
     "execution_count": 32,
     "metadata": {},
     "output_type": "execute_result"
    }
   ],
   "execution_count": 32
  },
  {
   "metadata": {
    "ExecuteTime": {
     "end_time": "2024-12-30T19:06:27.445362Z",
     "start_time": "2024-12-30T19:06:27.436346Z"
    }
   },
   "cell_type": "code",
   "source": "age.nlargest(1).index[0]",
   "id": "a8da0ecef19cd659",
   "outputs": [
    {
     "data": {
      "text/plain": [
       "np.int64(630)"
      ]
     },
     "execution_count": 33,
     "metadata": {},
     "output_type": "execute_result"
    }
   ],
   "execution_count": 33
  },
  {
   "metadata": {
    "ExecuteTime": {
     "end_time": "2024-12-30T19:06:33.642677Z",
     "start_time": "2024-12-30T19:06:33.630632Z"
    }
   },
   "cell_type": "code",
   "source": "age.idxmax()",
   "id": "ccb5b9d35fa21a92",
   "outputs": [
    {
     "data": {
      "text/plain": [
       "630"
      ]
     },
     "execution_count": 35,
     "metadata": {},
     "output_type": "execute_result"
    }
   ],
   "execution_count": 35
  },
  {
   "metadata": {
    "ExecuteTime": {
     "end_time": "2024-12-30T19:06:55.664671Z",
     "start_time": "2024-12-30T19:06:55.653775Z"
    }
   },
   "cell_type": "code",
   "source": "titanic.iloc[age.nlargest(1).index[0]]",
   "id": "cd2be38c46b68409",
   "outputs": [
    {
     "data": {
      "text/plain": [
       "survived       1\n",
       "pclass         1\n",
       "sex         male\n",
       "age         80.0\n",
       "sibsp          0\n",
       "parch          0\n",
       "fare        30.0\n",
       "embarked       S\n",
       "deck           A\n",
       "Name: 630, dtype: object"
      ]
     },
     "execution_count": 37,
     "metadata": {},
     "output_type": "execute_result"
    }
   ],
   "execution_count": 37
  },
  {
   "metadata": {
    "ExecuteTime": {
     "end_time": "2024-12-30T19:07:06.991799Z",
     "start_time": "2024-12-30T19:07:06.983283Z"
    }
   },
   "cell_type": "code",
   "source": "titanic.iloc[age.idxmax()]",
   "id": "4f945ece9affd833",
   "outputs": [
    {
     "data": {
      "text/plain": [
       "survived       1\n",
       "pclass         1\n",
       "sex         male\n",
       "age         80.0\n",
       "sibsp          0\n",
       "parch          0\n",
       "fare        30.0\n",
       "embarked       S\n",
       "deck           A\n",
       "Name: 630, dtype: object"
      ]
     },
     "execution_count": 38,
     "metadata": {},
     "output_type": "execute_result"
    }
   ],
   "execution_count": 38
  }
 ],
 "metadata": {
  "kernelspec": {
   "display_name": "Python 3",
   "language": "python",
   "name": "python3"
  },
  "language_info": {
   "codemirror_mode": {
    "name": "ipython",
    "version": 2
   },
   "file_extension": ".py",
   "mimetype": "text/x-python",
   "name": "python",
   "nbconvert_exporter": "python",
   "pygments_lexer": "ipython2",
   "version": "2.7.6"
  }
 },
 "nbformat": 4,
 "nbformat_minor": 5
}
