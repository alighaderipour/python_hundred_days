{
 "cells": [
  {
   "metadata": {
    "ExecuteTime": {
     "end_time": "2024-12-23T15:05:40.810454Z",
     "start_time": "2024-12-23T15:05:39.645325Z"
    }
   },
   "cell_type": "code",
   "source": [
    "import pandas as pd\n",
    "\n",
    "titanic = pd.read_csv('titanic.csv')\n",
    "titanic"
   ],
   "id": "9db094b9ce811c23",
   "outputs": [
    {
     "data": {
      "text/plain": [
       "     survived  pclass     sex   age  sibsp  parch     fare embarked deck\n",
       "0           0       3    male  22.0      1      0   7.2500        S  NaN\n",
       "1           1       1  female  38.0      1      0  71.2833        C    C\n",
       "2           1       3  female  26.0      0      0   7.9250        S  NaN\n",
       "3           1       1  female  35.0      1      0  53.1000        S    C\n",
       "4           0       3    male  35.0      0      0   8.0500        S  NaN\n",
       "..        ...     ...     ...   ...    ...    ...      ...      ...  ...\n",
       "886         0       2    male  27.0      0      0  13.0000        S  NaN\n",
       "887         1       1  female  19.0      0      0  30.0000        S    B\n",
       "888         0       3  female   NaN      1      2  23.4500        S  NaN\n",
       "889         1       1    male  26.0      0      0  30.0000        C    C\n",
       "890         0       3    male  32.0      0      0   7.7500        Q  NaN\n",
       "\n",
       "[891 rows x 9 columns]"
      ],
      "text/html": [
       "<div>\n",
       "<style scoped>\n",
       "    .dataframe tbody tr th:only-of-type {\n",
       "        vertical-align: middle;\n",
       "    }\n",
       "\n",
       "    .dataframe tbody tr th {\n",
       "        vertical-align: top;\n",
       "    }\n",
       "\n",
       "    .dataframe thead th {\n",
       "        text-align: right;\n",
       "    }\n",
       "</style>\n",
       "<table border=\"1\" class=\"dataframe\">\n",
       "  <thead>\n",
       "    <tr style=\"text-align: right;\">\n",
       "      <th></th>\n",
       "      <th>survived</th>\n",
       "      <th>pclass</th>\n",
       "      <th>sex</th>\n",
       "      <th>age</th>\n",
       "      <th>sibsp</th>\n",
       "      <th>parch</th>\n",
       "      <th>fare</th>\n",
       "      <th>embarked</th>\n",
       "      <th>deck</th>\n",
       "    </tr>\n",
       "  </thead>\n",
       "  <tbody>\n",
       "    <tr>\n",
       "      <th>0</th>\n",
       "      <td>0</td>\n",
       "      <td>3</td>\n",
       "      <td>male</td>\n",
       "      <td>22.0</td>\n",
       "      <td>1</td>\n",
       "      <td>0</td>\n",
       "      <td>7.2500</td>\n",
       "      <td>S</td>\n",
       "      <td>NaN</td>\n",
       "    </tr>\n",
       "    <tr>\n",
       "      <th>1</th>\n",
       "      <td>1</td>\n",
       "      <td>1</td>\n",
       "      <td>female</td>\n",
       "      <td>38.0</td>\n",
       "      <td>1</td>\n",
       "      <td>0</td>\n",
       "      <td>71.2833</td>\n",
       "      <td>C</td>\n",
       "      <td>C</td>\n",
       "    </tr>\n",
       "    <tr>\n",
       "      <th>2</th>\n",
       "      <td>1</td>\n",
       "      <td>3</td>\n",
       "      <td>female</td>\n",
       "      <td>26.0</td>\n",
       "      <td>0</td>\n",
       "      <td>0</td>\n",
       "      <td>7.9250</td>\n",
       "      <td>S</td>\n",
       "      <td>NaN</td>\n",
       "    </tr>\n",
       "    <tr>\n",
       "      <th>3</th>\n",
       "      <td>1</td>\n",
       "      <td>1</td>\n",
       "      <td>female</td>\n",
       "      <td>35.0</td>\n",
       "      <td>1</td>\n",
       "      <td>0</td>\n",
       "      <td>53.1000</td>\n",
       "      <td>S</td>\n",
       "      <td>C</td>\n",
       "    </tr>\n",
       "    <tr>\n",
       "      <th>4</th>\n",
       "      <td>0</td>\n",
       "      <td>3</td>\n",
       "      <td>male</td>\n",
       "      <td>35.0</td>\n",
       "      <td>0</td>\n",
       "      <td>0</td>\n",
       "      <td>8.0500</td>\n",
       "      <td>S</td>\n",
       "      <td>NaN</td>\n",
       "    </tr>\n",
       "    <tr>\n",
       "      <th>...</th>\n",
       "      <td>...</td>\n",
       "      <td>...</td>\n",
       "      <td>...</td>\n",
       "      <td>...</td>\n",
       "      <td>...</td>\n",
       "      <td>...</td>\n",
       "      <td>...</td>\n",
       "      <td>...</td>\n",
       "      <td>...</td>\n",
       "    </tr>\n",
       "    <tr>\n",
       "      <th>886</th>\n",
       "      <td>0</td>\n",
       "      <td>2</td>\n",
       "      <td>male</td>\n",
       "      <td>27.0</td>\n",
       "      <td>0</td>\n",
       "      <td>0</td>\n",
       "      <td>13.0000</td>\n",
       "      <td>S</td>\n",
       "      <td>NaN</td>\n",
       "    </tr>\n",
       "    <tr>\n",
       "      <th>887</th>\n",
       "      <td>1</td>\n",
       "      <td>1</td>\n",
       "      <td>female</td>\n",
       "      <td>19.0</td>\n",
       "      <td>0</td>\n",
       "      <td>0</td>\n",
       "      <td>30.0000</td>\n",
       "      <td>S</td>\n",
       "      <td>B</td>\n",
       "    </tr>\n",
       "    <tr>\n",
       "      <th>888</th>\n",
       "      <td>0</td>\n",
       "      <td>3</td>\n",
       "      <td>female</td>\n",
       "      <td>NaN</td>\n",
       "      <td>1</td>\n",
       "      <td>2</td>\n",
       "      <td>23.4500</td>\n",
       "      <td>S</td>\n",
       "      <td>NaN</td>\n",
       "    </tr>\n",
       "    <tr>\n",
       "      <th>889</th>\n",
       "      <td>1</td>\n",
       "      <td>1</td>\n",
       "      <td>male</td>\n",
       "      <td>26.0</td>\n",
       "      <td>0</td>\n",
       "      <td>0</td>\n",
       "      <td>30.0000</td>\n",
       "      <td>C</td>\n",
       "      <td>C</td>\n",
       "    </tr>\n",
       "    <tr>\n",
       "      <th>890</th>\n",
       "      <td>0</td>\n",
       "      <td>3</td>\n",
       "      <td>male</td>\n",
       "      <td>32.0</td>\n",
       "      <td>0</td>\n",
       "      <td>0</td>\n",
       "      <td>7.7500</td>\n",
       "      <td>Q</td>\n",
       "      <td>NaN</td>\n",
       "    </tr>\n",
       "  </tbody>\n",
       "</table>\n",
       "<p>891 rows × 9 columns</p>\n",
       "</div>"
      ]
     },
     "execution_count": 1,
     "metadata": {},
     "output_type": "execute_result"
    }
   ],
   "execution_count": 1
  },
  {
   "metadata": {
    "ExecuteTime": {
     "end_time": "2024-12-23T16:24:13.590008Z",
     "start_time": "2024-12-23T16:24:13.571480Z"
    }
   },
   "cell_type": "code",
   "source": "age = titanic['age']",
   "id": "e84132276d02a5f0",
   "outputs": [],
   "execution_count": 4
  },
  {
   "metadata": {
    "ExecuteTime": {
     "end_time": "2024-12-23T16:25:42.186577Z",
     "start_time": "2024-12-23T16:25:42.173419Z"
    }
   },
   "cell_type": "code",
   "source": [
    "age.describe()\n",
    "age"
   ],
   "id": "95b50571d5def7e1",
   "outputs": [
    {
     "data": {
      "text/plain": [
       "0      22.0\n",
       "1      38.0\n",
       "2      26.0\n",
       "3      35.0\n",
       "4      35.0\n",
       "       ... \n",
       "886    27.0\n",
       "887    19.0\n",
       "888     NaN\n",
       "889    26.0\n",
       "890    32.0\n",
       "Name: age, Length: 891, dtype: float64"
      ]
     },
     "execution_count": 9,
     "metadata": {},
     "output_type": "execute_result"
    }
   ],
   "execution_count": 9
  },
  {
   "metadata": {
    "ExecuteTime": {
     "end_time": "2024-12-23T16:25:13.856619Z",
     "start_time": "2024-12-23T16:25:13.842592Z"
    }
   },
   "cell_type": "code",
   "source": "age.count()",
   "id": "672cbb0aff525c3d",
   "outputs": [
    {
     "data": {
      "text/plain": [
       "np.int64(714)"
      ]
     },
     "execution_count": 6,
     "metadata": {},
     "output_type": "execute_result"
    }
   ],
   "execution_count": 6
  },
  {
   "metadata": {
    "ExecuteTime": {
     "end_time": "2024-12-23T16:25:29.652280Z",
     "start_time": "2024-12-23T16:25:29.638767Z"
    }
   },
   "cell_type": "code",
   "source": "age.size",
   "id": "6e3cb9dc20e1de3b",
   "outputs": [
    {
     "data": {
      "text/plain": [
       "891"
      ]
     },
     "execution_count": 8,
     "metadata": {},
     "output_type": "execute_result"
    }
   ],
   "execution_count": 8
  },
  {
   "metadata": {
    "ExecuteTime": {
     "end_time": "2024-12-23T16:26:07.964563Z",
     "start_time": "2024-12-23T16:26:07.951034Z"
    }
   },
   "cell_type": "code",
   "source": "len(age)",
   "id": "f4ec9a9915ba2cd1",
   "outputs": [
    {
     "data": {
      "text/plain": [
       "891"
      ]
     },
     "execution_count": 10,
     "metadata": {},
     "output_type": "execute_result"
    }
   ],
   "execution_count": 10
  },
  {
   "metadata": {
    "ExecuteTime": {
     "end_time": "2024-12-23T16:26:30.681716Z",
     "start_time": "2024-12-23T16:26:30.668180Z"
    }
   },
   "cell_type": "code",
   "source": "age.sum()",
   "id": "c21c8cc9c8cebd1e",
   "outputs": [
    {
     "data": {
      "text/plain": [
       "np.float64(21205.17)"
      ]
     },
     "execution_count": 11,
     "metadata": {},
     "output_type": "execute_result"
    }
   ],
   "execution_count": 11
  },
  {
   "metadata": {
    "ExecuteTime": {
     "end_time": "2024-12-23T16:33:19.357357Z",
     "start_time": "2024-12-23T16:33:19.343611Z"
    }
   },
   "cell_type": "code",
   "source": "age.sum(skipna=True)",
   "id": "1a7261028bb5897c",
   "outputs": [
    {
     "data": {
      "text/plain": [
       "np.float64(21205.17)"
      ]
     },
     "execution_count": 17,
     "metadata": {},
     "output_type": "execute_result"
    }
   ],
   "execution_count": 17
  },
  {
   "metadata": {
    "ExecuteTime": {
     "end_time": "2024-12-23T16:33:49.335215Z",
     "start_time": "2024-12-23T16:33:49.316152Z"
    }
   },
   "cell_type": "code",
   "source": "sum(age)",
   "id": "c522ce59fab5d9e7",
   "outputs": [
    {
     "data": {
      "text/plain": [
       "nan"
      ]
     },
     "execution_count": 18,
     "metadata": {},
     "output_type": "execute_result"
    }
   ],
   "execution_count": 18
  },
  {
   "metadata": {
    "ExecuteTime": {
     "end_time": "2024-12-23T16:32:29.639485Z",
     "start_time": "2024-12-23T16:32:29.633485Z"
    }
   },
   "cell_type": "code",
   "source": "help(pd.Series.sum)",
   "id": "9b7977e5c5a03d02",
   "outputs": [
    {
     "name": "stdout",
     "output_type": "stream",
     "text": [
      "Help on function sum in module pandas.core.series:\n",
      "\n",
      "sum(self, axis: 'Axis | None' = None, skipna: 'bool' = True, numeric_only: 'bool' = False, min_count: 'int' = 0, **kwargs)\n",
      "    Return the sum of the values over the requested axis.\n",
      "    \n",
      "    This is equivalent to the method ``numpy.sum``.\n",
      "    \n",
      "    Parameters\n",
      "    ----------\n",
      "    axis : {index (0)}\n",
      "        Axis for the function to be applied on.\n",
      "        For `Series` this parameter is unused and defaults to 0.\n",
      "    \n",
      "        .. warning::\n",
      "    \n",
      "            The behavior of DataFrame.sum with ``axis=None`` is deprecated,\n",
      "            in a future version this will reduce over both axes and return a scalar\n",
      "            To retain the old behavior, pass axis=0 (or do not pass axis).\n",
      "    \n",
      "        .. versionadded:: 2.0.0\n",
      "    \n",
      "    skipna : bool, default True\n",
      "        Exclude NA/null values when computing the result.\n",
      "    numeric_only : bool, default False\n",
      "        Include only float, int, boolean columns. Not implemented for Series.\n",
      "    \n",
      "    min_count : int, default 0\n",
      "        The required number of valid values to perform the operation. If fewer than\n",
      "        ``min_count`` non-NA values are present the result will be NA.\n",
      "    **kwargs\n",
      "        Additional keyword arguments to be passed to the function.\n",
      "    \n",
      "    Returns\n",
      "    -------\n",
      "    scalar or scalar\n",
      "    \n",
      "    See Also\n",
      "    --------\n",
      "    Series.sum : Return the sum.\n",
      "    Series.min : Return the minimum.\n",
      "    Series.max : Return the maximum.\n",
      "    Series.idxmin : Return the index of the minimum.\n",
      "    Series.idxmax : Return the index of the maximum.\n",
      "    DataFrame.sum : Return the sum over the requested axis.\n",
      "    DataFrame.min : Return the minimum over the requested axis.\n",
      "    DataFrame.max : Return the maximum over the requested axis.\n",
      "    DataFrame.idxmin : Return the index of the minimum over the requested axis.\n",
      "    DataFrame.idxmax : Return the index of the maximum over the requested axis.\n",
      "    \n",
      "    Examples\n",
      "    --------\n",
      "    >>> idx = pd.MultiIndex.from_arrays([\n",
      "    ...     ['warm', 'warm', 'cold', 'cold'],\n",
      "    ...     ['dog', 'falcon', 'fish', 'spider']],\n",
      "    ...     names=['blooded', 'animal'])\n",
      "    >>> s = pd.Series([4, 2, 0, 8], name='legs', index=idx)\n",
      "    >>> s\n",
      "    blooded  animal\n",
      "    warm     dog       4\n",
      "             falcon    2\n",
      "    cold     fish      0\n",
      "             spider    8\n",
      "    Name: legs, dtype: int64\n",
      "    \n",
      "    >>> s.sum()\n",
      "    14\n",
      "    \n",
      "    By default, the sum of an empty or all-NA Series is ``0``.\n",
      "    \n",
      "    >>> pd.Series([], dtype=\"float64\").sum()  # min_count=0 is the default\n",
      "    0.0\n",
      "    \n",
      "    This can be controlled with the ``min_count`` parameter. For example, if\n",
      "    you'd like the sum of an empty series to be NaN, pass ``min_count=1``.\n",
      "    \n",
      "    >>> pd.Series([], dtype=\"float64\").sum(min_count=1)\n",
      "    nan\n",
      "    \n",
      "    Thanks to the ``skipna`` parameter, ``min_count`` handles all-NA and\n",
      "    empty series identically.\n",
      "    \n",
      "    >>> pd.Series([np.nan]).sum()\n",
      "    0.0\n",
      "    \n",
      "    >>> pd.Series([np.nan]).sum(min_count=1)\n",
      "    nan\n",
      "\n"
     ]
    }
   ],
   "execution_count": 16
  },
  {
   "metadata": {
    "ExecuteTime": {
     "end_time": "2024-12-23T16:34:11.773841Z",
     "start_time": "2024-12-23T16:34:11.761114Z"
    }
   },
   "cell_type": "code",
   "source": "age.mean()",
   "id": "75e879d586d58b65",
   "outputs": [
    {
     "data": {
      "text/plain": [
       "np.float64(29.69911764705882)"
      ]
     },
     "execution_count": 19,
     "metadata": {},
     "output_type": "execute_result"
    }
   ],
   "execution_count": 19
  },
  {
   "metadata": {
    "ExecuteTime": {
     "end_time": "2024-12-23T16:34:20.511146Z",
     "start_time": "2024-12-23T16:34:20.497104Z"
    }
   },
   "cell_type": "code",
   "source": "age.median()",
   "id": "731651927fa5a521",
   "outputs": [
    {
     "data": {
      "text/plain": [
       "np.float64(28.0)"
      ]
     },
     "execution_count": 20,
     "metadata": {},
     "output_type": "execute_result"
    }
   ],
   "execution_count": 20
  },
  {
   "metadata": {
    "ExecuteTime": {
     "end_time": "2024-12-23T16:34:31.053279Z",
     "start_time": "2024-12-23T16:34:31.040234Z"
    }
   },
   "cell_type": "code",
   "source": "age.std()",
   "id": "7c788818a96b5a7",
   "outputs": [
    {
     "data": {
      "text/plain": [
       "np.float64(14.526497332334042)"
      ]
     },
     "execution_count": 21,
     "metadata": {},
     "output_type": "execute_result"
    }
   ],
   "execution_count": 21
  },
  {
   "metadata": {
    "ExecuteTime": {
     "end_time": "2024-12-23T16:34:34.103120Z",
     "start_time": "2024-12-23T16:34:34.089588Z"
    }
   },
   "cell_type": "code",
   "source": "age.min()",
   "id": "f27b9f993fda47e3",
   "outputs": [
    {
     "data": {
      "text/plain": [
       "np.float64(0.42)"
      ]
     },
     "execution_count": 22,
     "metadata": {},
     "output_type": "execute_result"
    }
   ],
   "execution_count": 22
  },
  {
   "metadata": {
    "ExecuteTime": {
     "end_time": "2024-12-23T16:34:37.129606Z",
     "start_time": "2024-12-23T16:34:37.115397Z"
    }
   },
   "cell_type": "code",
   "source": "age.max()",
   "id": "cc040270ce211d60",
   "outputs": [
    {
     "data": {
      "text/plain": [
       "np.float64(80.0)"
      ]
     },
     "execution_count": 23,
     "metadata": {},
     "output_type": "execute_result"
    }
   ],
   "execution_count": 23
  },
  {
   "metadata": {
    "ExecuteTime": {
     "end_time": "2024-12-23T16:34:43.154808Z",
     "start_time": "2024-12-23T16:34:43.141920Z"
    }
   },
   "cell_type": "code",
   "source": "age.unique()",
   "id": "2f9eb82672ce19f5",
   "outputs": [
    {
     "data": {
      "text/plain": [
       "array([22.  , 38.  , 26.  , 35.  ,   nan, 54.  ,  2.  , 27.  , 14.  ,\n",
       "        4.  , 58.  , 20.  , 39.  , 55.  , 31.  , 34.  , 15.  , 28.  ,\n",
       "        8.  , 19.  , 40.  , 66.  , 42.  , 21.  , 18.  ,  3.  ,  7.  ,\n",
       "       49.  , 29.  , 65.  , 28.5 ,  5.  , 11.  , 45.  , 17.  , 32.  ,\n",
       "       16.  , 25.  ,  0.83, 30.  , 33.  , 23.  , 24.  , 46.  , 59.  ,\n",
       "       71.  , 37.  , 47.  , 14.5 , 70.5 , 32.5 , 12.  ,  9.  , 36.5 ,\n",
       "       51.  , 55.5 , 40.5 , 44.  ,  1.  , 61.  , 56.  , 50.  , 36.  ,\n",
       "       45.5 , 20.5 , 62.  , 41.  , 52.  , 63.  , 23.5 ,  0.92, 43.  ,\n",
       "       60.  , 10.  , 64.  , 13.  , 48.  ,  0.75, 53.  , 57.  , 80.  ,\n",
       "       70.  , 24.5 ,  6.  ,  0.67, 30.5 ,  0.42, 34.5 , 74.  ])"
      ]
     },
     "execution_count": 24,
     "metadata": {},
     "output_type": "execute_result"
    }
   ],
   "execution_count": 24
  },
  {
   "metadata": {
    "ExecuteTime": {
     "end_time": "2024-12-23T16:35:05.216369Z",
     "start_time": "2024-12-23T16:35:05.202357Z"
    }
   },
   "cell_type": "code",
   "source": "help(pd.Series.unique)",
   "id": "570bfadde1bc3f3e",
   "outputs": [
    {
     "name": "stdout",
     "output_type": "stream",
     "text": [
      "Help on function unique in module pandas.core.series:\n",
      "\n",
      "unique(self) -> 'ArrayLike'\n",
      "    Return unique values of Series object.\n",
      "    \n",
      "    Uniques are returned in order of appearance. Hash table-based unique,\n",
      "    therefore does NOT sort.\n",
      "    \n",
      "    Returns\n",
      "    -------\n",
      "    ndarray or ExtensionArray\n",
      "        The unique values returned as a NumPy array. See Notes.\n",
      "    \n",
      "    See Also\n",
      "    --------\n",
      "    Series.drop_duplicates : Return Series with duplicate values removed.\n",
      "    unique : Top-level unique method for any 1-d array-like object.\n",
      "    Index.unique : Return Index with unique values from an Index object.\n",
      "    \n",
      "    Notes\n",
      "    -----\n",
      "    Returns the unique values as a NumPy array. In case of an\n",
      "    extension-array backed Series, a new\n",
      "    :class:`~api.extensions.ExtensionArray` of that type with just\n",
      "    the unique values is returned. This includes\n",
      "    \n",
      "        * Categorical\n",
      "        * Period\n",
      "        * Datetime with Timezone\n",
      "        * Datetime without Timezone\n",
      "        * Timedelta\n",
      "        * Interval\n",
      "        * Sparse\n",
      "        * IntegerNA\n",
      "    \n",
      "    See Examples section.\n",
      "    \n",
      "    Examples\n",
      "    --------\n",
      "    >>> pd.Series([2, 1, 3, 3], name='A').unique()\n",
      "    array([2, 1, 3])\n",
      "    \n",
      "    >>> pd.Series([pd.Timestamp('2016-01-01') for _ in range(3)]).unique()\n",
      "    <DatetimeArray>\n",
      "    ['2016-01-01 00:00:00']\n",
      "    Length: 1, dtype: datetime64[ns]\n",
      "    \n",
      "    >>> pd.Series([pd.Timestamp('2016-01-01', tz='US/Eastern')\n",
      "    ...            for _ in range(3)]).unique()\n",
      "    <DatetimeArray>\n",
      "    ['2016-01-01 00:00:00-05:00']\n",
      "    Length: 1, dtype: datetime64[ns, US/Eastern]\n",
      "    \n",
      "    An Categorical will return categories in the order of\n",
      "    appearance and with the same dtype.\n",
      "    \n",
      "    >>> pd.Series(pd.Categorical(list('baabc'))).unique()\n",
      "    ['b', 'a', 'c']\n",
      "    Categories (3, object): ['a', 'b', 'c']\n",
      "    >>> pd.Series(pd.Categorical(list('baabc'), categories=list('abc'),\n",
      "    ...                          ordered=True)).unique()\n",
      "    ['b', 'a', 'c']\n",
      "    Categories (3, object): ['a' < 'b' < 'c']\n",
      "\n"
     ]
    }
   ],
   "execution_count": 25
  },
  {
   "metadata": {
    "ExecuteTime": {
     "end_time": "2024-12-23T16:35:26.763833Z",
     "start_time": "2024-12-23T16:35:26.750176Z"
    }
   },
   "cell_type": "code",
   "source": "len(age.unique())",
   "id": "c888de59ea64020a",
   "outputs": [
    {
     "data": {
      "text/plain": [
       "89"
      ]
     },
     "execution_count": 26,
     "metadata": {},
     "output_type": "execute_result"
    }
   ],
   "execution_count": 26
  },
  {
   "metadata": {
    "ExecuteTime": {
     "end_time": "2024-12-23T16:35:44.460461Z",
     "start_time": "2024-12-23T16:35:44.447422Z"
    }
   },
   "cell_type": "code",
   "source": "age.nunique()\n",
   "id": "9e1e84d226b88edc",
   "outputs": [
    {
     "data": {
      "text/plain": [
       "88"
      ]
     },
     "execution_count": 27,
     "metadata": {},
     "output_type": "execute_result"
    }
   ],
   "execution_count": 27
  },
  {
   "metadata": {
    "ExecuteTime": {
     "end_time": "2024-12-23T16:37:11.479642Z",
     "start_time": "2024-12-23T16:37:11.470111Z"
    }
   },
   "cell_type": "code",
   "source": "age.nunique(dropna=True)",
   "id": "87691ed784580fad",
   "outputs": [
    {
     "data": {
      "text/plain": [
       "88"
      ]
     },
     "execution_count": 29,
     "metadata": {},
     "output_type": "execute_result"
    }
   ],
   "execution_count": 29
  },
  {
   "metadata": {
    "ExecuteTime": {
     "end_time": "2024-12-23T16:37:19.937524Z",
     "start_time": "2024-12-23T16:37:19.923495Z"
    }
   },
   "cell_type": "code",
   "source": "age.nunique(dropna=False)",
   "id": "980febed6a5b0a84",
   "outputs": [
    {
     "data": {
      "text/plain": [
       "89"
      ]
     },
     "execution_count": 30,
     "metadata": {},
     "output_type": "execute_result"
    }
   ],
   "execution_count": 30
  },
  {
   "metadata": {
    "ExecuteTime": {
     "end_time": "2024-12-23T16:37:25.817048Z",
     "start_time": "2024-12-23T16:37:25.804232Z"
    }
   },
   "cell_type": "code",
   "source": "age.value_counts()",
   "id": "5ac565020f73312c",
   "outputs": [
    {
     "data": {
      "text/plain": [
       "age\n",
       "24.00    30\n",
       "22.00    27\n",
       "18.00    26\n",
       "28.00    25\n",
       "30.00    25\n",
       "         ..\n",
       "24.50     1\n",
       "0.67      1\n",
       "0.42      1\n",
       "34.50     1\n",
       "74.00     1\n",
       "Name: count, Length: 88, dtype: int64"
      ]
     },
     "execution_count": 31,
     "metadata": {},
     "output_type": "execute_result"
    }
   ],
   "execution_count": 31
  },
  {
   "metadata": {
    "ExecuteTime": {
     "end_time": "2024-12-23T16:37:59.894141Z",
     "start_time": "2024-12-23T16:37:59.882128Z"
    }
   },
   "cell_type": "code",
   "source": "age.value_counts(dropna=False, sort=True)",
   "id": "bceab587645c9ff4",
   "outputs": [
    {
     "data": {
      "text/plain": [
       "age\n",
       "NaN      177\n",
       "24.00     30\n",
       "22.00     27\n",
       "18.00     26\n",
       "28.00     25\n",
       "        ... \n",
       "24.50      1\n",
       "0.67       1\n",
       "0.42       1\n",
       "34.50      1\n",
       "74.00      1\n",
       "Name: count, Length: 89, dtype: int64"
      ]
     },
     "execution_count": 33,
     "metadata": {},
     "output_type": "execute_result"
    }
   ],
   "execution_count": 33
  },
  {
   "metadata": {
    "ExecuteTime": {
     "end_time": "2024-12-23T16:39:12.115574Z",
     "start_time": "2024-12-23T16:39:12.102550Z"
    }
   },
   "cell_type": "code",
   "source": "age.value_counts(dropna=True, sort=True, ascending=False, normalize=True)",
   "id": "294f19a7e0f6533d",
   "outputs": [
    {
     "data": {
      "text/plain": [
       "age\n",
       "24.00    0.042017\n",
       "22.00    0.037815\n",
       "18.00    0.036415\n",
       "28.00    0.035014\n",
       "30.00    0.035014\n",
       "           ...   \n",
       "24.50    0.001401\n",
       "0.67     0.001401\n",
       "0.42     0.001401\n",
       "34.50    0.001401\n",
       "74.00    0.001401\n",
       "Name: proportion, Length: 88, dtype: float64"
      ]
     },
     "execution_count": 34,
     "metadata": {},
     "output_type": "execute_result"
    }
   ],
   "execution_count": 34
  },
  {
   "metadata": {
    "ExecuteTime": {
     "end_time": "2024-12-23T16:43:51.506891Z",
     "start_time": "2024-12-23T16:43:51.495891Z"
    }
   },
   "cell_type": "code",
   "source": "age.value_counts(dropna=False, sort=True, ascending=False, normalize=True)",
   "id": "fae94f182cd1150a",
   "outputs": [
    {
     "data": {
      "text/plain": [
       "age\n",
       "NaN      0.198653\n",
       "24.00    0.033670\n",
       "22.00    0.030303\n",
       "18.00    0.029181\n",
       "28.00    0.028058\n",
       "           ...   \n",
       "24.50    0.001122\n",
       "0.67     0.001122\n",
       "0.42     0.001122\n",
       "34.50    0.001122\n",
       "74.00    0.001122\n",
       "Name: proportion, Length: 89, dtype: float64"
      ]
     },
     "execution_count": 39,
     "metadata": {},
     "output_type": "execute_result"
    }
   ],
   "execution_count": 39
  },
  {
   "metadata": {
    "ExecuteTime": {
     "end_time": "2024-12-23T16:43:02.549666Z",
     "start_time": "2024-12-23T16:43:02.536132Z"
    }
   },
   "cell_type": "code",
   "source": "30 / age.count()",
   "id": "9cb85edb24ecc04b",
   "outputs": [
    {
     "data": {
      "text/plain": [
       "np.float64(0.04201680672268908)"
      ]
     },
     "execution_count": 36,
     "metadata": {},
     "output_type": "execute_result"
    }
   ],
   "execution_count": 36
  },
  {
   "metadata": {
    "ExecuteTime": {
     "end_time": "2024-12-23T16:43:25.176670Z",
     "start_time": "2024-12-23T16:43:25.164671Z"
    }
   },
   "cell_type": "code",
   "source": "30 / age.size",
   "id": "8d872f5b95fa6c17",
   "outputs": [
    {
     "data": {
      "text/plain": [
       "0.03367003367003367"
      ]
     },
     "execution_count": 38,
     "metadata": {},
     "output_type": "execute_result"
    }
   ],
   "execution_count": 38
  },
  {
   "metadata": {
    "ExecuteTime": {
     "end_time": "2024-12-23T16:42:15.806016Z",
     "start_time": "2024-12-23T16:42:15.777022Z"
    }
   },
   "cell_type": "code",
   "source": "age.value_counts(dropna=True, sort=True, ascending=False, normalize=True, bins=7)",
   "id": "37072b5151480aeb",
   "outputs": [
    {
     "data": {
      "text/plain": [
       "(23.157, 34.526]    0.261504\n",
       "(11.789, 23.157]    0.199776\n",
       "(34.526, 45.894]    0.150393\n",
       "(0.339, 11.789]     0.076319\n",
       "(45.894, 57.263]    0.076319\n",
       "(57.263, 68.631]    0.029181\n",
       "(68.631, 80.0]      0.007856\n",
       "Name: proportion, dtype: float64"
      ]
     },
     "execution_count": 35,
     "metadata": {},
     "output_type": "execute_result"
    }
   ],
   "execution_count": 35
  },
  {
   "metadata": {
    "ExecuteTime": {
     "end_time": "2024-12-23T17:41:51.634258Z",
     "start_time": "2024-12-23T17:41:51.619233Z"
    }
   },
   "cell_type": "code",
   "source": "titanic.fare.value_counts().index[0]",
   "id": "a623a3c0f34376c5",
   "outputs": [
    {
     "data": {
      "text/plain": [
       "np.float64(8.05)"
      ]
     },
     "execution_count": 48,
     "metadata": {},
     "output_type": "execute_result"
    }
   ],
   "execution_count": 48
  }
 ],
 "metadata": {
  "kernelspec": {
   "display_name": "Python 3",
   "language": "python",
   "name": "python3"
  },
  "language_info": {
   "codemirror_mode": {
    "name": "ipython",
    "version": 2
   },
   "file_extension": ".py",
   "mimetype": "text/x-python",
   "name": "python",
   "nbconvert_exporter": "python",
   "pygments_lexer": "ipython2",
   "version": "2.7.6"
  }
 },
 "nbformat": 4,
 "nbformat_minor": 5
}
