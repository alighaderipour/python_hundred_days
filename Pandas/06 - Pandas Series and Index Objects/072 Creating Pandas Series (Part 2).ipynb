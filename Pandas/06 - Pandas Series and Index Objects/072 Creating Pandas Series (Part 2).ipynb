{
 "cells": [
  {
   "cell_type": "code",
   "id": "initial_id",
   "metadata": {
    "collapsed": true,
    "ExecuteTime": {
     "end_time": "2024-12-27T19:20:52.019435Z",
     "start_time": "2024-12-27T19:20:50.482564Z"
    }
   },
   "source": [
    "import numpy as np\n",
    "import pandas as pd\n"
   ],
   "outputs": [],
   "execution_count": 2
  },
  {
   "metadata": {
    "ExecuteTime": {
     "end_time": "2024-12-27T19:20:52.050094Z",
     "start_time": "2024-12-27T19:20:52.027634Z"
    }
   },
   "cell_type": "code",
   "source": [
    "sales = np.array([10, 25, 6, 36, 2])\n",
    "sales"
   ],
   "id": "b01da74be4e2ab88",
   "outputs": [
    {
     "data": {
      "text/plain": [
       "array([10, 25,  6, 36,  2])"
      ]
     },
     "execution_count": 3,
     "metadata": {},
     "output_type": "execute_result"
    }
   ],
   "execution_count": 3
  },
  {
   "metadata": {
    "ExecuteTime": {
     "end_time": "2024-12-27T19:20:52.080951Z",
     "start_time": "2024-12-27T19:20:52.066935Z"
    }
   },
   "cell_type": "code",
   "source": "pd.Series(sales)",
   "id": "5d9042652464678",
   "outputs": [
    {
     "data": {
      "text/plain": [
       "0    10\n",
       "1    25\n",
       "2     6\n",
       "3    36\n",
       "4     2\n",
       "dtype: int64"
      ]
     },
     "execution_count": 4,
     "metadata": {},
     "output_type": "execute_result"
    }
   ],
   "execution_count": 4
  },
  {
   "metadata": {
    "ExecuteTime": {
     "end_time": "2024-12-27T19:20:52.143467Z",
     "start_time": "2024-12-27T19:20:52.130478Z"
    }
   },
   "cell_type": "code",
   "source": "pd.Series(sales, index=['day1', 'day2', 'day3', 'day4', 'day5'], name='sales')",
   "id": "6d9ca9f945aaf7aa",
   "outputs": [
    {
     "data": {
      "text/plain": [
       "day1    10\n",
       "day2    25\n",
       "day3     6\n",
       "day4    36\n",
       "day5     2\n",
       "Name: sales, dtype: int64"
      ]
     },
     "execution_count": 5,
     "metadata": {},
     "output_type": "execute_result"
    }
   ],
   "execution_count": 5
  },
  {
   "metadata": {
    "ExecuteTime": {
     "end_time": "2024-12-27T19:20:52.235644Z",
     "start_time": "2024-12-27T19:20:52.221644Z"
    }
   },
   "cell_type": "code",
   "source": [
    "dic = {\"ali\": 31, \"karim\": 33, \"fatemeh\": 25}\n",
    "pd.Series(dic, index=[\"ali\", \"karim\", \"fatemeh\", \"akbar\"], name='age')"
   ],
   "id": "597b6fb7dbeff7c5",
   "outputs": [
    {
     "data": {
      "text/plain": [
       "ali        31.0\n",
       "karim      33.0\n",
       "fatemeh    25.0\n",
       "akbar       NaN\n",
       "Name: age, dtype: float64"
      ]
     },
     "execution_count": 6,
     "metadata": {},
     "output_type": "execute_result"
    }
   ],
   "execution_count": 6
  },
  {
   "metadata": {
    "ExecuteTime": {
     "end_time": "2024-12-27T19:21:19.418830Z",
     "start_time": "2024-12-27T19:21:19.405831Z"
    }
   },
   "cell_type": "code",
   "source": "pd.Series(dic, index=[1, 2, 3, 4, 5], name='age')",
   "id": "c74ef44dfb12df33",
   "outputs": [
    {
     "data": {
      "text/plain": [
       "1   NaN\n",
       "2   NaN\n",
       "3   NaN\n",
       "4   NaN\n",
       "5   NaN\n",
       "Name: age, dtype: float64"
      ]
     },
     "execution_count": 7,
     "metadata": {},
     "output_type": "execute_result"
    }
   ],
   "execution_count": 7
  },
  {
   "metadata": {},
   "cell_type": "code",
   "outputs": [],
   "execution_count": null,
   "source": "",
   "id": "f1120bbb2f2be9fd"
  }
 ],
 "metadata": {
  "kernelspec": {
   "display_name": "Python 3",
   "language": "python",
   "name": "python3"
  },
  "language_info": {
   "codemirror_mode": {
    "name": "ipython",
    "version": 2
   },
   "file_extension": ".py",
   "mimetype": "text/x-python",
   "name": "python",
   "nbconvert_exporter": "python",
   "pygments_lexer": "ipython2",
   "version": "2.7.6"
  }
 },
 "nbformat": 4,
 "nbformat_minor": 5
}
