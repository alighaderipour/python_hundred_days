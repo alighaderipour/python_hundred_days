{
 "cells": [
  {
   "metadata": {
    "ExecuteTime": {
     "end_time": "2024-12-30T15:00:36.449935Z",
     "start_time": "2024-12-30T15:00:36.426814Z"
    }
   },
   "cell_type": "code",
   "source": [
    "import pandas as pd\n",
    "\n",
    "dic = {2: 10, 4: 1, 5: 3, 6: 23, None: 7, 1: 32, 3: 6}\n"
   ],
   "id": "a0240ddc8fb1da34",
   "outputs": [],
   "execution_count": 27
  },
  {
   "metadata": {
    "ExecuteTime": {
     "end_time": "2024-12-30T15:00:36.495995Z",
     "start_time": "2024-12-30T15:00:36.484077Z"
    }
   },
   "cell_type": "code",
   "source": [
    "weekdays = pd.Series(dic, name=\"Weekdays\")\n",
    "weekdays"
   ],
   "id": "2795da3744bdb9e7",
   "outputs": [
    {
     "data": {
      "text/plain": [
       "2.0    10\n",
       "4.0     1\n",
       "5.0     3\n",
       "6.0    23\n",
       "NaN     7\n",
       "1.0    32\n",
       "3.0     6\n",
       "Name: Weekdays, dtype: int64"
      ]
     },
     "execution_count": 28,
     "metadata": {},
     "output_type": "execute_result"
    }
   ],
   "execution_count": 28
  },
  {
   "metadata": {
    "ExecuteTime": {
     "end_time": "2024-12-30T15:00:36.592547Z",
     "start_time": "2024-12-30T15:00:36.579594Z"
    }
   },
   "cell_type": "code",
   "source": "weekdays.sort_index(ascending=True)",
   "id": "f893a48b8e252147",
   "outputs": [
    {
     "data": {
      "text/plain": [
       "1.0    32\n",
       "2.0    10\n",
       "3.0     6\n",
       "4.0     1\n",
       "5.0     3\n",
       "6.0    23\n",
       "NaN     7\n",
       "Name: Weekdays, dtype: int64"
      ]
     },
     "execution_count": 29,
     "metadata": {},
     "output_type": "execute_result"
    }
   ],
   "execution_count": 29
  },
  {
   "metadata": {
    "ExecuteTime": {
     "end_time": "2024-12-30T15:00:36.734613Z",
     "start_time": "2024-12-30T15:00:36.720610Z"
    }
   },
   "cell_type": "code",
   "source": "weekdays",
   "id": "dd99552c30019b03",
   "outputs": [
    {
     "data": {
      "text/plain": [
       "2.0    10\n",
       "4.0     1\n",
       "5.0     3\n",
       "6.0    23\n",
       "NaN     7\n",
       "1.0    32\n",
       "3.0     6\n",
       "Name: Weekdays, dtype: int64"
      ]
     },
     "execution_count": 30,
     "metadata": {},
     "output_type": "execute_result"
    }
   ],
   "execution_count": 30
  },
  {
   "metadata": {
    "ExecuteTime": {
     "end_time": "2024-12-30T15:00:37.034945Z",
     "start_time": "2024-12-30T15:00:37.022941Z"
    }
   },
   "cell_type": "code",
   "source": "weekdays.sort_index(ascending=True, na_position=\"first\")",
   "id": "b9ff7dd8481c1d6e",
   "outputs": [
    {
     "data": {
      "text/plain": [
       "NaN     7\n",
       "1.0    32\n",
       "2.0    10\n",
       "3.0     6\n",
       "4.0     1\n",
       "5.0     3\n",
       "6.0    23\n",
       "Name: Weekdays, dtype: int64"
      ]
     },
     "execution_count": 31,
     "metadata": {},
     "output_type": "execute_result"
    }
   ],
   "execution_count": 31
  },
  {
   "metadata": {
    "ExecuteTime": {
     "end_time": "2024-12-30T15:00:37.254844Z",
     "start_time": "2024-12-30T15:00:37.241823Z"
    }
   },
   "cell_type": "code",
   "source": "weekdays.sort_index(ascending=True, na_position=\"last\", inplace=True)",
   "id": "e0e4f83200d4bcc3",
   "outputs": [],
   "execution_count": 32
  },
  {
   "metadata": {
    "ExecuteTime": {
     "end_time": "2024-12-30T15:00:37.537251Z",
     "start_time": "2024-12-30T15:00:37.513478Z"
    }
   },
   "cell_type": "code",
   "source": "weekdays",
   "id": "cc1fc37eaff9c07a",
   "outputs": [
    {
     "data": {
      "text/plain": [
       "1.0    32\n",
       "2.0    10\n",
       "3.0     6\n",
       "4.0     1\n",
       "5.0     3\n",
       "6.0    23\n",
       "NaN     7\n",
       "Name: Weekdays, dtype: int64"
      ]
     },
     "execution_count": 33,
     "metadata": {},
     "output_type": "execute_result"
    }
   ],
   "execution_count": 33
  },
  {
   "metadata": {
    "ExecuteTime": {
     "end_time": "2024-12-30T15:00:37.725584Z",
     "start_time": "2024-12-30T15:00:37.713699Z"
    }
   },
   "cell_type": "code",
   "source": [
    "dic2 = dic = {\"monday\": 11, \"wednesday\": 1, \"friday\": 3, \"saturday\": 23, \"sunday\": None, \"tuesday\": 32, \"thursday\": 6}\n",
    "weekdays2 = pd.Series(dic2, name=\"Weekdays\")\n",
    "weekdays2"
   ],
   "id": "1560843b277ded3f",
   "outputs": [
    {
     "data": {
      "text/plain": [
       "monday       11.0\n",
       "wednesday     1.0\n",
       "friday        3.0\n",
       "saturday     23.0\n",
       "sunday        NaN\n",
       "tuesday      32.0\n",
       "thursday      6.0\n",
       "Name: Weekdays, dtype: float64"
      ]
     },
     "execution_count": 34,
     "metadata": {},
     "output_type": "execute_result"
    }
   ],
   "execution_count": 34
  },
  {
   "metadata": {
    "ExecuteTime": {
     "end_time": "2024-12-30T15:00:38.838896Z",
     "start_time": "2024-12-30T15:00:38.826669Z"
    }
   },
   "cell_type": "code",
   "source": "weekdays2.sort_values(ascending=True)",
   "id": "246f95355e9b157c",
   "outputs": [
    {
     "data": {
      "text/plain": [
       "wednesday     1.0\n",
       "friday        3.0\n",
       "thursday      6.0\n",
       "monday       11.0\n",
       "saturday     23.0\n",
       "tuesday      32.0\n",
       "sunday        NaN\n",
       "Name: Weekdays, dtype: float64"
      ]
     },
     "execution_count": 35,
     "metadata": {},
     "output_type": "execute_result"
    }
   ],
   "execution_count": 35
  },
  {
   "metadata": {
    "ExecuteTime": {
     "end_time": "2024-12-30T15:00:39.202574Z",
     "start_time": "2024-12-30T15:00:39.189928Z"
    }
   },
   "cell_type": "code",
   "source": "weekdays2",
   "id": "65b11d3c24ec4fe9",
   "outputs": [
    {
     "data": {
      "text/plain": [
       "monday       11.0\n",
       "wednesday     1.0\n",
       "friday        3.0\n",
       "saturday     23.0\n",
       "sunday        NaN\n",
       "tuesday      32.0\n",
       "thursday      6.0\n",
       "Name: Weekdays, dtype: float64"
      ]
     },
     "execution_count": 36,
     "metadata": {},
     "output_type": "execute_result"
    }
   ],
   "execution_count": 36
  },
  {
   "metadata": {
    "ExecuteTime": {
     "end_time": "2024-12-30T15:00:39.532562Z",
     "start_time": "2024-12-30T15:00:39.520576Z"
    }
   },
   "cell_type": "code",
   "source": "weekdays2.sort_values(ascending=True, na_position=\"first\", inplace=True)",
   "id": "b6b7b07620d7ebe0",
   "outputs": [],
   "execution_count": 37
  },
  {
   "metadata": {
    "ExecuteTime": {
     "end_time": "2024-12-30T15:00:39.954715Z",
     "start_time": "2024-12-30T15:00:39.943248Z"
    }
   },
   "cell_type": "code",
   "source": "weekdays2",
   "id": "9c6808dd751b1557",
   "outputs": [
    {
     "data": {
      "text/plain": [
       "sunday        NaN\n",
       "wednesday     1.0\n",
       "friday        3.0\n",
       "thursday      6.0\n",
       "monday       11.0\n",
       "saturday     23.0\n",
       "tuesday      32.0\n",
       "Name: Weekdays, dtype: float64"
      ]
     },
     "execution_count": 38,
     "metadata": {},
     "output_type": "execute_result"
    }
   ],
   "execution_count": 38
  },
  {
   "metadata": {
    "ExecuteTime": {
     "end_time": "2024-12-30T15:00:40.345912Z",
     "start_time": "2024-12-30T15:00:40.333783Z"
    }
   },
   "cell_type": "code",
   "source": "",
   "id": "1058de7f6d7c4b5f",
   "outputs": [],
   "execution_count": null
  }
 ],
 "metadata": {
  "kernelspec": {
   "display_name": "Python 3",
   "language": "python",
   "name": "python3"
  },
  "language_info": {
   "codemirror_mode": {
    "name": "ipython",
    "version": 2
   },
   "file_extension": ".py",
   "mimetype": "text/x-python",
   "name": "python",
   "nbconvert_exporter": "python",
   "pygments_lexer": "ipython2",
   "version": "2.7.6"
  }
 },
 "nbformat": 4,
 "nbformat_minor": 5
}
