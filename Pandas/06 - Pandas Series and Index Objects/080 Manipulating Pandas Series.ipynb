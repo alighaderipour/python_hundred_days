{
 "cells": [
  {
   "cell_type": "code",
   "id": "initial_id",
   "metadata": {
    "collapsed": true,
    "ExecuteTime": {
     "end_time": "2024-12-30T19:09:36.970732Z",
     "start_time": "2024-12-30T19:09:36.604624Z"
    }
   },
   "source": [
    "import pandas as pd\n",
    "\n",
    "sales = pd.Series([10, 25, 6, 36, 2, 0, None, 5], index=[\"Mon\", \"Tue\", \"Wed\", \"Thu\", \"Fri\", \"Sat\", \"Sun\", \"mon\"])\n",
    "sales"
   ],
   "outputs": [
    {
     "data": {
      "text/plain": [
       "Mon    10.0\n",
       "Tue    25.0\n",
       "Wed     6.0\n",
       "Thu    36.0\n",
       "Fri     2.0\n",
       "Sat     0.0\n",
       "Sun     NaN\n",
       "mon     5.0\n",
       "dtype: float64"
      ]
     },
     "execution_count": 1,
     "metadata": {},
     "output_type": "execute_result"
    }
   ],
   "execution_count": 1
  },
  {
   "metadata": {},
   "cell_type": "code",
   "outputs": [],
   "execution_count": null,
   "source": "",
   "id": "a2aa58792f182563"
  }
 ],
 "metadata": {
  "kernelspec": {
   "display_name": "Python 3",
   "language": "python",
   "name": "python3"
  },
  "language_info": {
   "codemirror_mode": {
    "name": "ipython",
    "version": 2
   },
   "file_extension": ".py",
   "mimetype": "text/x-python",
   "name": "python",
   "nbconvert_exporter": "python",
   "pygments_lexer": "ipython2",
   "version": "2.7.6"
  }
 },
 "nbformat": 4,
 "nbformat_minor": 5
}
